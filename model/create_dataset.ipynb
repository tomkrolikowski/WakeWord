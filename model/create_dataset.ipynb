{
 "cells": [
  {
   "cell_type": "code",
   "execution_count": 1,
   "metadata": {},
   "outputs": [],
   "source": [
    "import os\n",
    "import matplotlib.pyplot as plt\n",
    "import numpy as np\n",
    "import seaborn as sns\n",
    "import tensorflow as tf\n",
    "from tqdm import tqdm\n",
    "from scipy import io\n",
    "from tensorflow.python.data import Dataset\n",
    "import matplotlib.pyplot as plt\n",
    "from tensorflow.python.keras import layers\n",
    "from tensorflow.python.keras import models\n",
    "import tensorflow_io as tfio\n",
    "\n",
    "seed = 42\n",
    "tf.random.set_seed(seed)\n",
    "np.random.seed(seed)"
   ]
  },
  {
   "cell_type": "code",
   "execution_count": 17,
   "metadata": {},
   "outputs": [
    {
     "name": "stdout",
     "output_type": "stream",
     "text": [
      "Found 105829 files belonging to 35 classes.\n",
      "Using 84664 files for training.\n",
      "Using 21165 files for validation.\n",
      "\n",
      "label names: ['backward' 'bed' 'bird' 'cat' 'dog' 'down' 'eight' 'five' 'follow'\n",
      " 'forward' 'four' 'go' 'happy' 'house' 'learn' 'left' 'marvin' 'nine' 'no'\n",
      " 'off' 'on' 'one' 'right' 'seven' 'sheila' 'six' 'stop' 'three' 'tree'\n",
      " 'two' 'up' 'visual' 'wow' 'yes' 'zero']\n"
     ]
    }
   ],
   "source": [
    "import pathlib\n",
    "DATASET_PATH = \"raw_data/speech_data/\"\n",
    "\n",
    "data_dir = pathlib.Path(DATASET_PATH)\n",
    "\n",
    "train_ds, val_ds = tf.keras.utils.audio_dataset_from_directory(\n",
    "    directory=data_dir,\n",
    "    batch_size=1,\n",
    "    validation_split=0.2,\n",
    "    seed=0,\n",
    "    output_sequence_length=16000,\n",
    "    subset='both')\n",
    "\n",
    "label_names = np.array(train_ds.class_names)\n",
    "print()\n",
    "print(\"label names:\", label_names)"
   ]
  },
  {
   "cell_type": "code",
   "execution_count": 18,
   "metadata": {},
   "outputs": [],
   "source": [
    "def squeeze(audio, labels):\n",
    "  audio = tf.squeeze(audio, axis=-1)\n",
    "  return audio, labels\n",
    "\n",
    "train_ds = train_ds.map(squeeze, tf.data.AUTOTUNE)\n",
    "val_ds = val_ds.map(squeeze, tf.data.AUTOTUNE)"
   ]
  },
  {
   "cell_type": "code",
   "execution_count": 19,
   "metadata": {},
   "outputs": [],
   "source": [
    "def convert_dataset(dataset):\n",
    "    x_temp = []\n",
    "    y_temp = []\n",
    "    for wave in tqdm(dataset):\n",
    "        x_temp.append(np.squeeze(wave[0], axis=0))\n",
    "        label = np.zeros((3, ))\n",
    "        if wave[1] == 16: #marvin\n",
    "            label[1] = 1\n",
    "        elif wave[1] == 24: #sheila\n",
    "            label[2] = 1\n",
    "        else:\n",
    "            label[0] = 1\n",
    "        y_temp.append(label)\n",
    "    return np.array(x_temp), np.array(y_temp)"
   ]
  },
  {
   "cell_type": "code",
   "execution_count": 20,
   "metadata": {},
   "outputs": [
    {
     "name": "stderr",
     "output_type": "stream",
     "text": [
      "100%|██████████| 84664/84664 [04:42<00:00, 299.21it/s] \n",
      "100%|██████████| 21165/21165 [01:12<00:00, 293.39it/s]\n"
     ]
    }
   ],
   "source": [
    "x_train, y_train = convert_dataset(train_ds)\n",
    "x_val, y_val = convert_dataset(val_ds)"
   ]
  },
  {
   "cell_type": "code",
   "execution_count": 22,
   "metadata": {},
   "outputs": [
    {
     "name": "stdout",
     "output_type": "stream",
     "text": [
      "(84664, 16000)\n",
      "(84664, 3)\n",
      "[81378.  1671.  1615.]\n",
      "(21165, 16000)\n",
      "(21165, 3)\n",
      "[20329.   429.   407.]\n"
     ]
    }
   ],
   "source": [
    "print(x_train.shape)\n",
    "print(y_train.shape)\n",
    "print(np.sum(y_train, axis=0))\n",
    "print(x_val.shape)\n",
    "print(y_val.shape)\n",
    "print(np.sum(y_val, axis=0))"
   ]
  },
  {
   "cell_type": "code",
   "execution_count": 23,
   "metadata": {},
   "outputs": [],
   "source": [
    "# normalize all data\n",
    "def normalize_data(dataset):\n",
    "    mean = np.mean(dataset, axis=1)\n",
    "    std = np.std(dataset, axis=1)\n",
    "    return ((dataset.T - mean.T) / std.T).T\n",
    "x_train = normalize_data(x_train)\n",
    "x_val = normalize_data(x_val)"
   ]
  },
  {
   "cell_type": "code",
   "execution_count": 55,
   "metadata": {},
   "outputs": [
    {
     "data": {
      "image/png": "[encoded data removed]",
      "text/plain": [
       "<Figure size 640x480 with 1 Axes>"
      ]
     },
     "metadata": {},
     "output_type": "display_data"
    }
   ],
   "source": [
    "fig, ax = plt.subplots()\n",
    "sig = x_train[0,:]\n",
    "ax.plot(np.arange(sig.shape[0]), sig)\n",
    "plt.show()"
   ]
  },
  {
   "cell_type": "code",
   "execution_count": 85,
   "metadata": {},
   "outputs": [
    {
     "name": "stdout",
     "output_type": "stream",
     "text": [
      "(1671, 16000)\n",
      "(1615, 16000)\n",
      "(81378, 16000)\n"
     ]
    }
   ],
   "source": [
    "x_sheila = x_train[np.argmax(y_train, axis=1) == 2]\n",
    "x_marvin = x_train[np.argmax(y_train, axis=1) == 1]\n",
    "x_nontarget = x_train[np.argmax(y_train, axis=1) == 0]\n",
    "print(x_marvin.shape)\n",
    "print(x_sheila.shape)\n",
    "print(x_nontarget.shape)"
   ]
  },
  {
   "cell_type": "code",
   "execution_count": 139,
   "metadata": {},
   "outputs": [
    {
     "name": "stdout",
     "output_type": "stream",
     "text": [
      "(429, 16000)\n",
      "(407, 16000)\n",
      "(20329, 16000)\n"
     ]
    }
   ],
   "source": [
    "x_sheila = x_val[np.argmax(y_val, axis=1) == 2]\n",
    "x_marvin = x_val[np.argmax(y_val, axis=1) == 1]\n",
    "x_nontarget = x_val[np.argmax(y_val, axis=1) == 0]\n",
    "print(x_marvin.shape)\n",
    "print(x_sheila.shape)\n",
    "print(x_nontarget.shape)"
   ]
  },
  {
   "cell_type": "code",
   "execution_count": 14,
   "metadata": {},
   "outputs": [],
   "source": [
    "NOISE_FLOOR=0.1\n",
    "from scipy import signal\n",
    "\n",
    "def get_voice_position(audio, noise_floor):\n",
    "    audio = audio - np.mean(audio)\n",
    "    audio = audio / np.max(np.abs(audio))\n",
    "    return tfio.audio.trim(audio, axis=0, epsilon=noise_floor)\n",
    "\n",
    "def process_audio(audio):\n",
    "    voice_start, voice_end = get_voice_position(audio, NOISE_FLOOR)\n",
    "    voice_start = np.array(voice_start)\n",
    "    voice_end = np.array(voice_end)\n",
    "    end_gap=len(audio) - voice_end\n",
    "    random_offset = np.random.uniform(0, voice_start+end_gap)\n",
    "    audio = np.roll(audio,int(-random_offset+end_gap))\n",
    "    return audio"
   ]
  },
  {
   "cell_type": "code",
   "execution_count": 25,
   "metadata": {},
   "outputs": [
    {
     "name": "stderr",
     "output_type": "stream",
     "text": [
      "C:\\Users\\thoma\\AppData\\Local\\Temp\\ipykernel_30592\\2906035967.py:2: WavFileWarning: Chunk (non-data) not understood, skipping it.\n",
      "  dishes = io.wavfile.read('raw_data/_background_noise_/doing_the_dishes.wav')\n",
      "C:\\Users\\thoma\\AppData\\Local\\Temp\\ipykernel_30592\\2906035967.py:3: WavFileWarning: Chunk (non-data) not understood, skipping it.\n",
      "  miaow = io.wavfile.read('raw_data/_background_noise_/dude_miaowing.wav')\n",
      "C:\\Users\\thoma\\AppData\\Local\\Temp\\ipykernel_30592\\2906035967.py:4: WavFileWarning: Chunk (non-data) not understood, skipping it.\n",
      "  bike = io.wavfile.read('raw_data/_background_noise_/exercise_bike.wav')\n",
      "C:\\Users\\thoma\\AppData\\Local\\Temp\\ipykernel_30592\\2906035967.py:6: WavFileWarning: Chunk (non-data) not understood, skipping it.\n",
      "  tap = io.wavfile.read('raw_data/_background_noise_/running_tap.wav')\n",
      "C:\\Users\\thoma\\AppData\\Local\\Temp\\ipykernel_30592\\2906035967.py:8: WavFileWarning: Chunk (non-data) not understood, skipping it.\n",
      "  domain_noise = io.wavfile.read(\"augmented_data/background_noise.wav\")\n"
     ]
    }
   ],
   "source": [
    "from scipy import io\n",
    "dishes = io.wavfile.read('raw_data/_background_noise_/doing_the_dishes.wav')\n",
    "miaow = io.wavfile.read('raw_data/_background_noise_/dude_miaowing.wav')\n",
    "bike = io.wavfile.read('raw_data/_background_noise_/exercise_bike.wav')\n",
    "pink = io.wavfile.read('raw_data/_background_noise_/pink_noise.wav')\n",
    "tap = io.wavfile.read('raw_data/_background_noise_/running_tap.wav')\n",
    "white = io.wavfile.read('raw_data/_background_noise_/white_noise.wav')\n",
    "domain_noise = io.wavfile.read(\"augmented_data/background_noise.wav\")\n",
    "background_list = [dishes, miaow, bike, pink, tap, white, domain_noise]"
   ]
  },
  {
   "cell_type": "code",
   "execution_count": 24,
   "metadata": {},
   "outputs": [],
   "source": [
    "NOISE_FLOOR=0.1\n",
    "from scipy import signal\n",
    "\n",
    "def get_voice_position(audio, noise_floor):\n",
    "    audio = audio - np.mean(audio)\n",
    "    audio = audio / np.max(np.abs(audio))\n",
    "    return tfio.audio.trim(audio, axis=0, epsilon=noise_floor)\n",
    "\n",
    "def process_audio(audio):\n",
    "    # mean = np.mean(audio)\n",
    "    # std = np.std(audio)\n",
    "    # audio = np.mean\n",
    "    voice_start, voice_end = get_voice_position(audio, NOISE_FLOOR)\n",
    "    voice_start = np.array(voice_start)\n",
    "    voice_end = np.array(voice_end)\n",
    "    end_gap=len(audio) - voice_end\n",
    "    random_offset = np.random.uniform(0, voice_start+end_gap)\n",
    "    audio = np.roll(audio,int(-random_offset+end_gap))\n",
    "    background_volume = np.random.uniform(0.0, 0.5)\n",
    "    # get the background noise files\n",
    "    background_index = np.random.choice(np.arange(0, len(background_list)))\n",
    "    background_tensor = background_list[background_index][1]\n",
    "    rate = 0\n",
    "    if background_index == 6:\n",
    "        rate = 44100\n",
    "    else:\n",
    "        rate = 16000\n",
    "    background_start = np.random.randint(0, len(background_tensor) - rate)\n",
    "    # normalise the background noise\n",
    "    temp_back = background_tensor[background_start:background_start+rate]\n",
    "    background = np.array(temp_back, np.float32)\n",
    "    background = signal.resample(background, 16000)\n",
    "    # background = np.squeeze(background, axis=1)\n",
    "    mean = np.mean(background)\n",
    "    std = np.std(background)\n",
    "    background = (background - mean) / std\n",
    "    # mix the audio with the scaled background\n",
    "    audio = audio + (background_volume * background)\n",
    "    audio = signal.resample(audio, 8000)\n",
    "    return audio\n",
    "\n",
    "def random_background():\n",
    "    # get the background noise files\n",
    "    background_index = np.random.choice(np.arange(0, len(background_list)))\n",
    "    background_tensor = background_list[background_index][1]\n",
    "    rate = 0\n",
    "    if background_index == 6:\n",
    "        rate = 44100\n",
    "    else:\n",
    "        rate = 16000\n",
    "    background_start = np.random.randint(0, len(background_tensor) - rate)\n",
    "    # normalise the background noise\n",
    "    background = background_tensor[background_start:background_start+rate]\n",
    "    background = np.array(background, np.float32)\n",
    "    background = signal.resample(background, 16000)\n",
    "    # background = np.squeeze(background, axis=1)\n",
    "    mean = np.mean(background)\n",
    "    std = np.std(background)\n",
    "    background = (background - mean) / std\n",
    "    background = signal.resample(background, 8000)\n",
    "    return background"
   ]
  },
  {
   "cell_type": "code",
   "execution_count": 97,
   "metadata": {},
   "outputs": [
    {
     "data": {
      "image/png": "[encoded data removed]",
      "text/plain": [
       "<Figure size 640x480 with 1 Axes>"
      ]
     },
     "metadata": {},
     "output_type": "display_data"
    }
   ],
   "source": [
    "fig, ax = plt.subplots()\n",
    "audio_original = random_background().astype(np.float32)\n",
    "\n",
    "ax.plot(np.arange(audio_original.shape[0]), audio_original)\n",
    "spectrogram = tf.signal.stft(\n",
    "      audio_original, frame_length=255, frame_step=128)\n",
    "spectrogram = tf.abs(spectrogram)\n",
    "spectrogram = tf.math.log(spectrogram).numpy()\n",
    "plt.show()"
   ]
  },
  {
   "cell_type": "code",
   "execution_count": 82,
   "metadata": {},
   "outputs": [
    {
     "data": {
      "image/png": "[encoded data removed]",
      "text/plain": [
       "<Figure size 640x480 with 1 Axes>"
      ]
     },
     "metadata": {},
     "output_type": "display_data"
    },
    {
     "data": {
      "text/html": [
       "\n",
       "                <audio  controls=\"controls\" >\n",
       "                    <source src=\"data:audio/wav;base64,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\" type=\"audio/wav\" />\n",
       "                    Your browser does not support the audio element.\n",
       "                </audio>\n",
       "              "
      ],
      "text/plain": [
       "<IPython.lib.display.Audio object>"
      ]
     },
     "metadata": {},
     "output_type": "display_data"
    }
   ],
   "source": [
    "sig = process_audio(x_sheila[7,:])\n",
    "fig, ax = plt.subplots()\n",
    "ax.plot(np.arange(sig.shape[0]), sig)\n",
    "plt.show()\n",
    "from IPython import display\n",
    "display.display(display.Audio(sig, rate=8000))"
   ]
  },
  {
   "cell_type": "code",
   "execution_count": 84,
   "metadata": {},
   "outputs": [],
   "source": [
    "def augment_dataset(dataset, amount):\n",
    "    x_temp = []\n",
    "    for original in tqdm(dataset):\n",
    "        for i in range(amount):\n",
    "            x_temp.append(process_audio(original))\n",
    "    return np.array(x_temp)\n",
    "\n",
    "def augment_dataset_random(dataset, amount):\n",
    "    x_temp = []\n",
    "    for i in tqdm(range(amount)):\n",
    "        index = np.random.randint(0, dataset.shape[0])\n",
    "        x_temp.append(process_audio(dataset[index,:]))\n",
    "    return np.array(x_temp)"
   ]
  },
  {
   "cell_type": "code",
   "execution_count": 147,
   "metadata": {},
   "outputs": [
    {
     "name": "stderr",
     "output_type": "stream",
     "text": [
      "100%|██████████| 429/429 [02:05<00:00,  3.42it/s]\n"
     ]
    }
   ],
   "source": [
    "x_marvin = augment_dataset(x_marvin, 50)"
   ]
  },
  {
   "cell_type": "code",
   "execution_count": 148,
   "metadata": {},
   "outputs": [
    {
     "name": "stdout",
     "output_type": "stream",
     "text": [
      "(21450, 8000)\n"
     ]
    }
   ],
   "source": [
    "print(x_marvin.shape)"
   ]
  },
  {
   "cell_type": "code",
   "execution_count": 149,
   "metadata": {},
   "outputs": [],
   "source": [
    "np.savez(\"augmented_data/val/marvin_custom.npz\", data=x_marvin)"
   ]
  },
  {
   "cell_type": "code",
   "execution_count": 146,
   "metadata": {},
   "outputs": [
    {
     "name": "stdout",
     "output_type": "stream",
     "text": [
      "(429, 16000)\n"
     ]
    }
   ],
   "source": [
    "print(x_marvin.shape)"
   ]
  },
  {
   "cell_type": "code",
   "execution_count": 143,
   "metadata": {},
   "outputs": [
    {
     "name": "stderr",
     "output_type": "stream",
     "text": [
      "100%|██████████| 407/407 [01:51<00:00,  3.65it/s]\n"
     ]
    }
   ],
   "source": [
    "x_sheila = augment_dataset(x_sheila, 50)"
   ]
  },
  {
   "cell_type": "code",
   "execution_count": 144,
   "metadata": {},
   "outputs": [],
   "source": [
    "np.savez(\"augmented_data/val/sheila_custom.npz\", data=x_sheila)"
   ]
  },
  {
   "cell_type": "code",
   "execution_count": 99,
   "metadata": {},
   "outputs": [
    {
     "name": "stdout",
     "output_type": "stream",
     "text": [
      "(83550, 8000)\n",
      "(80750, 8000)\n"
     ]
    }
   ],
   "source": [
    "print(x_marvin.shape)\n",
    "print(x_sheila.shape)"
   ]
  },
  {
   "cell_type": "code",
   "execution_count": 141,
   "metadata": {},
   "outputs": [
    {
     "name": "stderr",
     "output_type": "stream",
     "text": [
      "100%|██████████| 20329/20329 [01:43<00:00, 197.14it/s]\n"
     ]
    },
    {
     "name": "stdout",
     "output_type": "stream",
     "text": [
      "(20329, 8000)\n"
     ]
    }
   ],
   "source": [
    "x_nontarget = augment_dataset(x_nontarget, 1)\n",
    "print(x_nontarget.shape)"
   ]
  },
  {
   "cell_type": "code",
   "execution_count": 142,
   "metadata": {},
   "outputs": [],
   "source": [
    "# np.savez(\"augmented_data/train/marvin_noise\", data=x_marvin)\n",
    "# np.savez(\"augmented_data/val/sheila_noise\", data=x_sheila)\n",
    "np.savez(\"augmented_data/val/nontarget_noise_custom\", data=x_nontarget)"
   ]
  },
  {
   "cell_type": "code",
   "execution_count": 9,
   "metadata": {},
   "outputs": [],
   "source": [
    "from scipy import fft\n",
    "from tensorflow.python.ops.signal import fft_ops\n",
    "from scipy import signal\n",
    "# window = signal.windows.hann(255)\n",
    "# print(window.shape)\n",
    "# print(window)\n",
    "# print(np.max(window))\n",
    "# print(window[127])\n",
    "EPSILON = 1e-6\n",
    "def custom_spetrogram(wav_sig, frame_length, frame_step):\n",
    "    fft_window = 1\n",
    "    while(fft_window < frame_length):\n",
    "        fft_window *= 2\n",
    "    window = signal.windows.hann(frame_length)\n",
    "    temp = []\n",
    "    for i in range(0, len(wav_sig) - frame_length + 1, frame_step):\n",
    "        # print(i, i + frame_size + 1)\n",
    "        # temp.append(wav_sig[i:i + frame_size + 1])\n",
    "        wav = np.zeros((fft_window + 1,))\n",
    "        temp_wav_sig = wav_sig[i:i + fft_window + 1]\n",
    "        for j in range(0, frame_length):\n",
    "            wav[j] = temp_wav_sig[j]  * window[j]\n",
    "        for j in range(frame_length, fft_window):\n",
    "            wav[j] = 0\n",
    "        # # print(wav.shape)\n",
    "        # wav[-1] = 0\n",
    "        # print(wav[i:i + frame_size].shape)\n",
    "        # wav[i:i + frame_size] = wav[i:i + frame_size] * window\n",
    "        # # print(wav.shape)\n",
    "        short_spec = fft.rfft(wav)\n",
    "        # print(short_spec.real.shape)\n",
    "        temp.append((short_spec.real **2 + short_spec.imag **2)[:int(fft_window / 2) + 1])\n",
    "    temp = np.array(temp)\n",
    "    # print(temp.shape)\n",
    "    return temp"
   ]
  },
  {
   "cell_type": "code",
   "execution_count": 10,
   "metadata": {},
   "outputs": [],
   "source": [
    "def get_spectrogram(waveform):\n",
    "  # Convert the waveform to a spectrogram via a STFT.\n",
    "  spectrogram = custom_spetrogram(\n",
    "      waveform, frame_length=128, frame_step=160)\n",
    "  # Obtain the magnitude of the STFT.\n",
    "  spectrogram = tf.abs(spectrogram).numpy()\n",
    "  # spectrogram = np.log(spectrogram) + EPSILON\n",
    "  # Add a `channels` dimension, so that the spectrogram can be used\n",
    "  # as image-like input data with convolution layers (which expect\n",
    "  # shape (`batch_size`, `height`, `width`, `channels`).\n",
    "  spectrogram = spectrogram[..., tf.newaxis]\n",
    "  return spectrogram"
   ]
  },
  {
   "cell_type": "code",
   "execution_count": 5,
   "metadata": {},
   "outputs": [],
   "source": [
    "def plot_spectrogram(spectrogram, ax):\n",
    "  if len(spectrogram.shape) > 2:\n",
    "    assert len(spectrogram.shape) == 3\n",
    "    spectrogram = np.squeeze(spectrogram, axis=-1)\n",
    "  # Convert the frequencies to log scale and transpose, so that the time is\n",
    "  # represented on the x-axis (columns).\n",
    "  # Add an epsilon to avoid taking a log of zero.\n",
    "  log_spec = np.log(spectrogram.T + np.finfo(float).eps)\n",
    "  height = log_spec.shape[0]\n",
    "  width = log_spec.shape[1]\n",
    "  X = np.linspace(0, np.size(spectrogram), num=width, dtype=int)\n",
    "  Y = range(height)\n",
    "  ax.pcolormesh(X, Y, log_spec)"
   ]
  },
  {
   "cell_type": "code",
   "execution_count": 5,
   "metadata": {},
   "outputs": [],
   "source": [
    "from numba import cuda \n",
    "device = cuda.get_current_device()\n",
    "device.reset()"
   ]
  },
  {
   "cell_type": "code",
   "execution_count": 14,
   "metadata": {},
   "outputs": [
    {
     "name": "stdout",
     "output_type": "stream",
     "text": [
      "(50, 65, 1)\n"
     ]
    },
    {
     "data": {
      "image/png": "[encoded data removed]",
      "text/plain": [
       "<Figure size 640x480 with 1 Axes>"
      ]
     },
     "metadata": {},
     "output_type": "display_data"
    }
   ],
   "source": [
    "spec = get_spectrogram(x_sheila[55,:])\n",
    "print(spec.shape)\n",
    "fig, ax = plt.subplots()\n",
    "ax.imshow(spec)\n",
    "plt.show()"
   ]
  },
  {
   "cell_type": "code",
   "execution_count": 11,
   "metadata": {},
   "outputs": [],
   "source": [
    "def convert_to_spectrogram(dataset):\n",
    "    x_temp = []\n",
    "    for sig in tqdm(dataset):\n",
    "        x_temp.append(get_spectrogram(sig))\n",
    "    return np.array(x_temp)"
   ]
  },
  {
   "cell_type": "code",
   "execution_count": 22,
   "metadata": {},
   "outputs": [],
   "source": [
    "def generate_noise_data(amount):\n",
    "    x_temp = []\n",
    "    for i in tqdm(range(amount)):\n",
    "        audio_original = random_background().astype(np.float32)\n",
    "        spectrogram = custom_spetrogram(audio_original, frame_length=128, frame_step=160)\n",
    "        spectrogram = tf.abs(spectrogram).numpy()\n",
    "        # spectrogram = np.log(spectrogram) + EPSILON\n",
    "        spectrogram = spectrogram[..., tf.newaxis]\n",
    "        x_temp.append(spectrogram)\n",
    "    return np.array(x_temp)"
   ]
  },
  {
   "cell_type": "code",
   "execution_count": 28,
   "metadata": {},
   "outputs": [
    {
     "name": "stderr",
     "output_type": "stream",
     "text": [
      "100%|██████████| 20000/20000 [00:42<00:00, 466.49it/s]\n"
     ]
    }
   ],
   "source": [
    "x_noise = generate_noise_data(20000)"
   ]
  },
  {
   "cell_type": "code",
   "execution_count": 29,
   "metadata": {},
   "outputs": [],
   "source": [
    "np.savez(\"augmented_data/val/noise_custom_spec\", data=x_noise)"
   ]
  },
  {
   "cell_type": "code",
   "execution_count": 30,
   "metadata": {},
   "outputs": [
    {
     "name": "stderr",
     "output_type": "stream",
     "text": [
      "100%|██████████| 21450/21450 [00:37<00:00, 574.95it/s]\n"
     ]
    },
    {
     "name": "stdout",
     "output_type": "stream",
     "text": [
      "(21450, 50, 65, 1)\n"
     ]
    }
   ],
   "source": [
    "x_marvin = np.load(\"augmented_data/val/marvin_custom.npz\")[\"data\"]\n",
    "x_marvin = convert_to_spectrogram(x_marvin)\n",
    "print(x_marvin.shape)"
   ]
  },
  {
   "cell_type": "code",
   "execution_count": 31,
   "metadata": {},
   "outputs": [],
   "source": [
    "np.savez(\"augmented_data/val/marvin_custom_spec\", data=x_marvin)"
   ]
  },
  {
   "cell_type": "code",
   "execution_count": 32,
   "metadata": {},
   "outputs": [
    {
     "name": "stdout",
     "output_type": "stream",
     "text": [
      "(20350, 8000)\n"
     ]
    },
    {
     "name": "stderr",
     "output_type": "stream",
     "text": [
      "100%|██████████| 20350/20350 [00:35<00:00, 570.80it/s]\n"
     ]
    },
    {
     "name": "stdout",
     "output_type": "stream",
     "text": [
      "(20350, 50, 65, 1)\n"
     ]
    }
   ],
   "source": [
    "x_sheila = np.load(\"augmented_data/val/sheila_custom.npz\")[\"data\"]\n",
    "# x_sheila = signal.resample(x_sheila, 8000, axis=1)\n",
    "print(x_sheila.shape)\n",
    "x_sheila = convert_to_spectrogram(x_sheila)\n",
    "print(x_sheila.shape)"
   ]
  },
  {
   "cell_type": "code",
   "execution_count": 33,
   "metadata": {},
   "outputs": [],
   "source": [
    "np.savez(\"augmented_data/val/sheila_custom_spec\", data=x_sheila)"
   ]
  },
  {
   "cell_type": "code",
   "execution_count": 37,
   "metadata": {},
   "outputs": [
    {
     "name": "stderr",
     "output_type": "stream",
     "text": [
      "100%|██████████| 20329/20329 [00:36<00:00, 551.42it/s]\n"
     ]
    },
    {
     "name": "stdout",
     "output_type": "stream",
     "text": [
      "(20329, 50, 65, 1)\n"
     ]
    }
   ],
   "source": [
    "x_nontarget = np.load(\"augmented_data/val/nontarget_noise_custom.npz\")[\"data\"]\n",
    "x_nontarget = convert_to_spectrogram(x_nontarget)\n",
    "print(x_nontarget.shape)"
   ]
  },
  {
   "cell_type": "code",
   "execution_count": 36,
   "metadata": {},
   "outputs": [],
   "source": [
    "np.savez(\"augmented_data/val/nontarget_custom_spec\", data=x_nontarget)"
   ]
  }
 ],
 "metadata": {
  "kernelspec": {
   "display_name": "Python 3.10.8 64-bit",
   "language": "python",
   "name": "python3"
  },
  "language_info": {
   "codemirror_mode": {
    "name": "ipython",
    "version": 3
   },
   "file_extension": ".py",
   "mimetype": "text/x-python",
   "name": "python",
   "nbconvert_exporter": "python",
   "pygments_lexer": "ipython3",
   "version": "3.10.8"
  },
  "orig_nbformat": 4,
  "vscode": {
   "interpreter": {
    "hash": "2881cb102472c0a2cc7b98c9f5b468e81049b20ea6d80c54eb33ba6f13a3277c"
   }
  }
 },
 "nbformat": 4,
 "nbformat_minor": 2
}
